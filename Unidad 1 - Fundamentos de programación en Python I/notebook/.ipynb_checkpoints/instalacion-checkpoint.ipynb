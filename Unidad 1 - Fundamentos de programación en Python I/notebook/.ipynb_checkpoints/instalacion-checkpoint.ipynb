{
 "cells": [
  {
   "cell_type": "markdown",
   "metadata": {
    "slideshow": {
     "slide_type": "-"
    }
   },
   "source": [
    "[comment]: <> (los titulares se generan en el siguiente link: https://docs.google.com/drawings/d/1TLM83sTn9w2Jmq0l0Jy1ivIeLRVO_rKBCamm5Tq11Yo/edit?usp=sharing)\n",
    "\n",
    "![](../img/titulo_instalacion.png)"
   ]
  },
  {
   "cell_type": "markdown",
   "metadata": {},
   "source": [
    "Los objetivos de este notebook son:\n",
    "\n",
    "* Aprender a instalar el entorno de desarrollo, para nuestro sistema operativo.\n",
    "* Presentar todas las alternativas disponibles de entornos de desarrollo.\n",
    "* Instalar paquetes.\n",
    "* Ejecutar snippets de codigo Python."
   ]
  },
  {
   "cell_type": "markdown",
   "metadata": {},
   "source": [
    "## Entorno de desarrollo para Python\n",
    "\n",
    "Python es un lenguaje de programación multiplataforma, lo que significa que se ejecuta en todos los principales sistemas operativos. Pero difiere ligeramente dependiendo el sistemas operativos, por lo que se deberá mantener algunas consideraciones en mente. En terminos generales debemos contar con los siguientes elementos:\n",
    "\n",
    "* Interprete de Python.\n",
    "* Administrador de paquetes (package managers).\n",
    "* IDE.\n",
    "* Librerias."
   ]
  },
  {
   "cell_type": "markdown",
   "metadata": {},
   "source": [
    "### Interprete de Python\n",
    "\n",
    "Para comenzar a trabajar con Python nuestro sistema operativo deberá tener acceso al intérprete de Python. Para lo cual:\n",
    "\n",
    "* Descargarlo desde la pagina oficial [Python Software Foundation](https://www.python.org/) para el sistema operativo que se desee y ejecutarlo.\n",
    "\n",
    "#### Linux\n",
    "\n",
    "En el caso de los sistemas Linux están diseñados para la programación, por lo que Python ya está instalado en la mayoría de las distribuciones de Linux. Abriendo una ventana de terminal (en Ubuntu, presionar `ctrl+alt+T`) ingresar `python` y deberia abrir el interprete en consola, donde en las primeras lineas figura la version del mismo (para salir `ctrl+D` oo ingresar `exit()`). \n",
    "\n",
    "#### OS X\n",
    "\n",
    "Al igual que los sistema Linux, Python ya está instalado en la mayoría de los sistemas OS X. Abrir una ventana de terminal e ingresar `python` y deberia abrir el interprete en consola, donde en las primeras lineas figura la version del mismo (para salir `ctrl+D` oo ingresar `exit()`). \n",
    "\n",
    "#### Windows\n",
    "\n",
    "Por lo general Windows no viene con Python, por lo que probablemente se deba descargar e instalar. Primero verificar si Python está instalado en el sistema. Abrir una ventana de terminal e ingresar `python`, si se abre el interprete, Python está instalado en el sistema. Sin embargo, probablemente arroje un mensaje de error que indica que Python no es un comando reconocido.\n",
    "Por lo tanto, descargar desde la pagina oficial [Python Software Foundation](https://www.python.org/) el instalador para Windows e instalar, es importante asegurarse marcar la opción **Agregar Python a PATH**, lo que facilitará la configuración.\n",
    "\n",
    "> Si no seleccionamos la opción de **Agregar Python a PATH**, el interprete no podra ser llamado desde cualquier instancia del terminal de Windows. En tal caso proceder como recomienda la siguiente [publicacion](https://medium.com/@hektorprofe/tutorial-windows-10-agregar-el-python-de-anaconda-al-path-para-utilizarlo-en-la-cmd-y-powershell-72acf22901a), para agregar el interprete a las variables de entorno del sistema operativo.\n",
    "\n",
    "Por otra parte en el libro [*Python crash course: a hands-on, project-based introduction to programming*](https://www.amazon.es/Python-Crash-Course-Hands-Project-Based/dp/1593276036) de Matthes Eric presenta una detallada descripcion de como proceder para cada sistema operativo, el mismo se encuentra en el capitulo 1, pagina 5.\n",
    "\n",
    "O se pueden seguir los pasos recomendados en la siguiente guia de [*Real Python*](https://realpython.com/installing-python/)\n",
    "\n",
    "En todos los casos, no importa el camino que se elija para instalar el interprete de Python en nuestras computadoras, lo importante es el resultado; poder abrir el interprete y correr la siguiente instrucción:"
   ]
  },
  {
   "cell_type": "code",
   "execution_count": 1,
   "metadata": {},
   "outputs": [
    {
     "name": "stdout",
     "output_type": "stream",
     "text": [
      "Hola a todos, esta es mi primer línea de código\n"
     ]
    }
   ],
   "source": [
    "print(\"Hola a todos, esta es mi primer línea de código\")"
   ]
  },
  {
   "cell_type": "markdown",
   "metadata": {},
   "source": [
    "### Administrador de paquetes\n",
    "\n",
    "O **package managers** en ingles, es un sistema de gestión de paquetes utilizado para instalar y administrar paquetes de software escritos en Python, en particular. Los administradores más conocidos son dos:\n",
    "\n",
    "* [PyPi (Python Package Index)](https://pypi.org/)\n",
    "* [Conda](https://docs.conda.io/projects/conda/en/latest/index.html)"
   ]
  },
  {
   "cell_type": "markdown",
   "metadata": {},
   "source": [
    "### IDE\n",
    "\n",
    "Un entorno de desarrollo integrado o entorno de desarrollo interactivo, en inglés Integrated Development Environment (IDE), es una aplicación informática que proporciona servicios integrales para facilitarle al desarrollador o programador el desarrollo de software. Hay un gran número de ellos, muy diversos, especificos, cubriendo la mayoria de las necesidades. Mencionamos algunos de los más utilizandos con Python:\n",
    "\n",
    "* [Geany](https://www.geany.org/).\n",
    "* [Sublime Text](https://www.sublimetext.com/). \n",
    "* [Atom](https://atom.io/).\n",
    "* [Spyder](https://www.spyder-ide.org/).\n",
    "* [Jupyter Lab](https://jupyterlab.readthedocs.io/en/stable/index.html). "
   ]
  },
  {
   "cell_type": "markdown",
   "metadata": {},
   "source": [
    "### Librerias\n",
    "\n",
    "![](https://www.researchgate.net/publication/332799309/figure/fig1/AS:753947908272130@1556766597837/Schematic-view-of-the-Python-scientific-software-ecosystem-Figure-taken-from-Jake.png)\n",
    "\n",
    "Las librerias son elementos programados en Python (incluso optimizados en más bajo nivel) que amplian el abanico de herramientas para desarrollar. Es buena práctica antes de comenzar comenzar un proyecto de desarrollo ver las librerias disponibles. En este sentido [PyPi](https://pypi.org/) tiene un buscardor o por consola en Conda con la siguiente instrucción `conda search`"
   ]
  },
  {
   "cell_type": "markdown",
   "metadata": {
    "slideshow": {
     "slide_type": "slide"
    }
   },
   "source": [
    "## Instalaciónes simplificadas\n",
    "\n",
    "La instalación del interprete de Python, un IDE y todos los paquetes que utilizaremos, por separado puede ser una tarea ardua y agotadora. Anaconda es un distribución libre y abierta de los lenguajes Python y R, que está orientada a simplificar el despliegue y administración de los paquetes de software.\n",
    "\n",
    "### Anaconda \n",
    "\n",
    "![](https://i1.wp.com/www.linuxhispano.net/wp-content/uploads/2016/08/anaconda_logo.png?fit=1080%2C540)\n",
    "\n",
    "Algunas caracteristicas de Anaconda relevantes son:\n",
    "\n",
    "* Es libre, de código abierto y con una [documentación](https://docs.anaconda.com/) bastante detallada y una gran comunidad.\n",
    "* Se trata de una suite multiplataforma (Gnu/Linux, MacOS y Windows).\n",
    "* Orientada a procesamiento de datos a gran escala y computación científica.\n",
    "* Apunta a simplificar el manejo de paquetes y su distribución.\n",
    "* Su gestor de paquetes se llama [conda](https://conda.io/docs/).\n",
    "* Elimina problemas de dependencias de paquetes y control de versiones.\n",
    "\n",
    "#### Instalacion de Anaconda\n",
    "\n",
    "> La instalacion de Anaconda depende del sistema operativo intalado, para tener los pasos detallados de como instalarlo en cada sistema operativo [ver la documentación oficial](https://docs.anaconda.com/anaconda/install/)\n",
    "\n",
    "* Ir a la [página de descargas de Anaconda](https://www.anaconda.com/download/).\n",
    "* Seleccionar tu sistema operativo (Windows, OSX, Linux).\n",
    "* Descargar Anaconda (Version Python 3.x) y ejecutarlo.\n",
    "\n",
    "#### Actualizar Anaconda usando Conda\n",
    "\n",
    "![](https://docs.conda.io/en/latest/_images/conda_logo.svg)\n",
    "\n",
    "[Conda](https://docs.conda.io/en/latest/) es el gestor de paquetes (package managers) que utiliza Anaconda, es análogo a [pip](https://pypi.org/). Los mismos sirven para bajar e instalar paquetes automáticamente, entre otras cosas. Ahora, vamos a actualizar Anaconda para asegurarnos de que tenemos nuestra distribución de Python con todos sus paquetes al día. Abrimos una terminal y ejecutamos los siguientes comandos de actualización (confirmando en el caso de tener que instalar paquetes nuevos):\n",
    "\n",
    "``` bash\n",
    "conda update anaconda\n",
    "conda update --all\n",
    "```"
   ]
  },
  {
   "cell_type": "markdown",
   "metadata": {},
   "source": [
    "### Miniconda\n",
    "\n",
    "En lugar de instalar Anaconda, se puede instalar Miniconda, que es una versión minimalista de Anaconda que solo incluye **Python**, **pip** y **conda** (y otros paquetes necesarios para su funcionamiento).\n",
    "\n",
    "¿Por qué instalaría Miniconda en lugar de Anaconda?\n",
    "\n",
    "* Por cuestiones de espacio en disco: en lugar de instalar todo, pueden instalar solo lo que necesitan.\n",
    "* Para aprovechar y aprender a instalar paquetes, por si alguna vez necesitan uno que Anaconda no incluya.\n",
    "\n",
    "Entrar en la [pagina oficial de Miniconda](https://docs.conda.io/en/latest/miniconda.html) e instalar la versión correspondiente al sistema operativo que poseen."
   ]
  },
  {
   "cell_type": "markdown",
   "metadata": {},
   "source": [
    "### Instalando paquetes a través de conda (o pip)\n",
    "\n",
    "Una vez instalado Miniconda, abrir una consola. En Windows, van al menú inicio, escriben \"cmd\" y les va a aparecer \"cmd.exe\" o \"Command Prompt\". \n",
    "\n",
    "Primero listemos los paquetes intalados\n",
    "``` bash\n",
    "conda list\n",
    "```\n",
    "\n",
    "Probemos instalando Jupyter Lab. Para esto, escriben en la consola (como recomienda la [documentacion oficial](https://jupyter.org/install)):\n",
    "\n",
    "**Conda**\n",
    "``` bash\n",
    "conda install -c conda-forge jupyterlab\n",
    "```\n",
    "\n",
    "**Pip**\n",
    "``` bash\n",
    "pip install jupyterlab\n",
    "```\n",
    "\n",
    "Va a mostrar un texto diciendo que paquetes va a instalar o actualizar, y pregunta si se quiere proceder. Poniendo \"y\" automáticamente se baja el paquete desde internet y se instala. Así de sencillo."
   ]
  },
  {
   "cell_type": "markdown",
   "metadata": {},
   "source": [
    "## Descargar y usar el material del curso\n",
    "\n",
    "Ademas de disponer de todo el material en el pendrive, las últimas actualizaciones del contenido del curso está alojadas en [GitLab](https://about.gitlab.com/), una plataforma para almacenar proyectos de software que también proporciona una serie de herramientas para el trabajo en equipo. Digamos que es una especie de red social-herramienta para escribir y compartir código.\n",
    "\n",
    "Simplemente ve a nuestro [repositorio del curso en GitLab](https://gitlab.com/infiniemlab.dsp/workshop_EST.git), y en la parte derecha encontrarás un botón Download:\n",
    "\n",
    "![](../imagenes/gitlab_300x200.png)\n",
    "\n",
    "**Guardar** el archivo y **descomprimirlo**. De manera alternativa **clonar** utilizando la dirección https brindada en dicha página.\n",
    "\n",
    "> **Nota:** Si queres conocer un poco más respecto al uso de Git, se recomienda fuertemente el siguiente [link](002-introGit.ipynb). \n",
    "\n",
    "En la sección de ejercicios vamos a trabajar con esta herramienta."
   ]
  },
  {
   "cell_type": "markdown",
   "metadata": {},
   "source": [
    "### Utilizar el material del workshop\n",
    "\n",
    "Una vez que Python esta instalando, por medio de Anaconda y descargado el material del workshop, para poder utilizarlo abrir una terminal en la carpeta que se descomprimió el material. En linux se accede\n",
    "\n",
    "![](../imagenes/ubuntu1_300x200.png)\n",
    "\n",
    "Y en la terminal ingresar:\n",
    "\n",
    "``` shell\n",
    "jupyter lab\n",
    "```\n",
    "o en su **version simplificada**\n",
    "\n",
    "``` shell\n",
    "jupyter notebook\n",
    "```\n",
    "Se recomienda fuertemente `jupyter lab`.\n",
    "\n",
    "**Jupyter** es una aplicación web de código abierto que le permite crear y compartir documentos que contienen código, ecuaciones, visualizaciones y texto. **Lab** y **Notebook**, son dos versiones de la misma herramienta, que difieren tan solo en el entorno y poseen el mismo potencial. Para este workshop optamos por trabajar en **Lab**. Es importante aclarar además, que a lo largo del workshop cuando mencionemos **notebook**, se hará referencia al archivo .ipynb, en lugar al programa de **Jupyter Notebook** (con mayúscula). El termino **notebook** se hereda de [IPython](https://es.wikipedia.org/wiki/IPython).\n",
    "\n",
    "> **Nota:** es importante que la dirección que aparezca en la línea de comandos sea la correspondiente a la carpeta del curso (ej. \"workshop\"), o determinados elementos, como las imágenes incrustadas no se visualizarán correctamente.\n",
    "\n",
    "Aparecerán unas cuantas líneas y se abrirá tu navegador web predefinido. **No hace falta disponer de conexión a Internet**. Lo que está ocurriendo es que \"tu navegador está mostrando lo que le manda el programa que se está ejecutando desde la línea de comandos\". Así que no cierres la línea de comandos hasta que termines de usar el notebook y ya lo hayas guardado y cerrado en tu navegador.\n",
    "\n",
    "![](../imagenes/jupyterLab_300x200.png)\n",
    "\n",
    "En esa ventana de tu navegador puedes moverte por las carpetas y ver los archivos con extensión .ipynb. Ve a la carpeta **notebooks** y abre la primera clase haciendo click sobre ella. \n",
    "\n",
    "En esa primera clase se hace una pequeña introducción a Python. Lee el principio con calma para saber cómo manejar Jupyter Lab (también puedes usar la ayuda Help) y no tengas miedo de tocar y cambiar cosas a tu antojo. No vas a romper tu ordenador y en una de malas, siempre puedes volverte a descargar todo de GitLab.\n",
    "\n",
    "> **Nota:** un error que suele ser común al virtualizar, es la falta de pyopengl. Esto arroja un error \"Segmentation fault (core dumped)\" al querer abrir \"Jupyter Lab\". Para resolverlo instalar, usando la terminal el siguiente modulo: `pip3 install pyopengl` (Pip, ya viene instalado por defecto en Anaconda).\n",
    "\n",
    "**Una explicación alternativa para [instalar Jupyter](https://github.com/numerical-mooc/numerical-mooc/blob/master/lessons/00_getting_started/00_02_Installing_Jupyter.md)**."
   ]
  },
  {
   "cell_type": "markdown",
   "metadata": {},
   "source": [
    "## Bibliogrfía recomendada\n",
    "* MATTHES, Eric. Python crash course: a hands-on, project-based introduction to programming. No Starch Press, 2015.\n",
    "* VAN ROSSUM, Guido; DRAKE, Fred L. The python language reference manual. Network Theory Ltd., 2011."
   ]
  },
  {
   "cell_type": "markdown",
   "metadata": {
    "slideshow": {
     "slide_type": "slide"
    }
   },
   "source": [
    "## Referencias\n",
    "\n",
    "* Molloy, Derek. Exploring Raspberry Pi: interfacing to the real world with embedded Linux. John Wiley & Sons, 2016.\n",
    "* Cano, Juan Luis. Curso Aero Python. Extraido de [GitHub](https://github.com/AeroPython/Curso_AeroPython), 2016."
   ]
  },
  {
   "cell_type": "markdown",
   "metadata": {},
   "source": [
    "## Licencia\n",
    "\n",
    "<a rel=\"license\" href=\"http://creativecommons.org/licenses/by-sa/4.0/\"><img alt=\"Licencia de Creative Commons\" style=\"border-width:0\" src=\"https://i.creativecommons.org/l/by-sa/4.0/88x31.png\" /></a><br />Este documento se destribuye con una <a rel=\"license\" href=\"http://creativecommons.org/licenses/by-sa/4.0/\">licencia Atribución CompartirIgual 4.0 Internacional de Creative Commons</a>.\n",
    "\n",
    "© 2019. Infiniem Labs Acustica. infiniemlab.dsp@gmail.com. Curso de Python (CC BY-SA 4.0))"
   ]
  }
 ],
 "metadata": {
  "kernelspec": {
   "display_name": "Python 3",
   "language": "python",
   "name": "python3"
  },
  "language_info": {
   "codemirror_mode": {
    "name": "ipython",
    "version": 3
   },
   "file_extension": ".py",
   "mimetype": "text/x-python",
   "name": "python",
   "nbconvert_exporter": "python",
   "pygments_lexer": "ipython3",
   "version": "3.7.3"
  }
 },
 "nbformat": 4,
 "nbformat_minor": 4
}
