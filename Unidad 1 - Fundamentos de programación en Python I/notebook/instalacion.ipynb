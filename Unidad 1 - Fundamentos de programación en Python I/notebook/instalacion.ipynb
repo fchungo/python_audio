{
 "cells": [
  {
   "cell_type": "markdown",
   "metadata": {
    "slideshow": {
     "slide_type": "-"
    }
   },
   "source": [
    "[comment]: <> (los titulares se generan en el siguiente link: https://docs.google.com/drawings/d/1TLM83sTn9w2Jmq0l0Jy1ivIeLRVO_rKBCamm5Tq11Yo/edit?usp=sharing)\n",
    "\n",
    "![](../img/titulo_instalacion.png)"
   ]
  },
  {
   "cell_type": "markdown",
   "metadata": {
    "slideshow": {
     "slide_type": "-"
    }
   },
   "source": [
    "## Índice \"\"REVISAR LUEGO DE TERMINAR\"\"\n",
    "\n",
    "* [Virtualización](#Virtualizacion).\n",
    "* [Iniciar y actualizar el sistema operativo](#Instalacion-de-Virtual-Box).\n",
    "* [Sistemas operativos - Linux](#Sistemas-operativos---Linux).\n",
    "    * [Distribución Ubuntu](#Distribucion-Ubuntu).\n",
    "        * [Iniciar y actualizar el sistema operativo](#Iniciar-y-actualizar-el-sistema-operativo).\n",
    "* [Instalación del entorno de desarrollo](#Instalacion-del-entorno-de-desarrollo).\n",
    "    * [Anaconda](#Anaconda).\n",
    "        * [Actualizar Anaconda usando Conda](#Actualizar-Anaconda-usando-Conda).\n",
    "* [Descargar el material del workshop](#Descargar-el-material-del-workshop).\n",
    "    * [Utilizar el material del workshop](#Utilizar-el-material-del-workshop).\n",
    "* [Referencias](#Referencias).\n",
    "* [Licencia](#Licencia)."
   ]
  },
  {
   "cell_type": "markdown",
   "metadata": {},
   "source": [
    "Los objetivos de este notebook son:\n",
    "* Aprender a instalar el entorno de desarrollo, para nuestro sistema operativo.\n",
    "* Presentar todas las alternativas disponibles de entornos de desarrollo.\n",
    "* Instalar paquetes"
   ]
  },
  {
   "cell_type": "markdown",
   "metadata": {},
   "source": [
    "## Instalación del entorno de desarrollo\n",
    "\n",
    "Para comenzar a trabajar con Python nuestro sistema operativo deberá tener acceso al intérprete de Python. Para lo cual:\n",
    "\n",
    "* Descargarlo desde la pagina oficial [Python Software Foundation](https://www.python.org/). Típicamente, eso implica descargar el instalador apropiado para su sistema operativo y ejecutarlo.\n",
    "* Algunos sistemas operativos, especialmente Linux, proporcionan un administrador de paquetes que se puede ejecutar para instalar el interprete de Python. Incluso, en la mayoria de los casos Linux ya tiene preinstalado un interprete.\n",
    "\n",
    "El interprete tan solo va a permitir al sistema operativo entender la sintaxis que ingresemos, necesitamos contar con otros elementos para tener un entorno de desarrollo más amplio:\n",
    "* IDE \n",
    "* Gestor de paquetes (package managers).\n",
    "* Librerias basicas."
   ]
  },
  {
   "cell_type": "markdown",
   "metadata": {
    "slideshow": {
     "slide_type": "slide"
    }
   },
   "source": [
    "### Anaconda \n",
    "\n",
    "![](https://i1.wp.com/www.linuxhispano.net/wp-content/uploads/2016/08/anaconda_logo.png?fit=1080%2C540)\n",
    "\n",
    "La instalación del interprete de Python, un [IDE](https://es.wikipedia.org/wiki/Entorno_de_desarrollo_integrado) y todos los paquetes que utilizaremos, por separado puede ser una tarea ardua y agotadora. [Anaconda](https://anaconda.org/) viene a resolver este incoveniente, se trata de una distribución de Python que recopila muchas de las bibliotecas necesarias en el ámbito de la computación científica. Además incluye herramientas para programar en Python, por ejemplo [Jupyter](http://jupyter.org/).\n",
    "\n",
    "* Anaconda es libre, de código abierto y con una [documentación](https://docs.anaconda.com/) bastante detallada y una gran comunidad.\n",
    "* Se trata de una suite multiplataforma (Gnu/Linux, macOS y Windows).\n",
    "* Orientada a procesamiento de datos a gran escala y computación científica.\n",
    "* Apunta a simplificar el manejo de paquetes y su distribución.\n",
    "* Su gestor de paquetes se llama [conda](https://conda.io/docs/).\n",
    "* Elimina problemas de dependencias de paquetes y control de versiones.\n",
    "\n",
    "#### Instalacion de Anaconda\n",
    "\n",
    "> La instalacion de Anaconda depende del sistema operativo intalado, para tener los pasos detallados de como instalarlo en cada sistema operativo [ver la documentación oficial](https://docs.anaconda.com/anaconda/install/)\n",
    "\n",
    "* Ir a la [página de descargas de Anaconda](https://www.anaconda.com/download/).\n",
    "* Seleccionar tu sistema operativo (Windows, OSX, Linux).\n",
    "* Descargar Anaconda (Version Python 3.x).\n",
    "\n",
    "#### Actualizar Anaconda usando Conda\n",
    "\n",
    "![](https://docs.conda.io/en/latest/_images/conda_logo.svg)\n",
    "\n",
    "[Conda](https://docs.conda.io/en/latest/) es el gestor de paquetes (package managers) que utiliza Anaconda, es análogo a [pip](https://pypi.org/). Los mismos sirven para bajar e instalar paquetes automáticamente, entre otras cosas. Ahora, vamos a actualizar Anaconda para asegurarnos de que tenemos nuestra distribución de Python con todos sus paquetes al día. Abrimos una terminal y ejecutamos los siguientes comandos de actualización (confirmando en el caso de tener que instalar paquetes nuevos):\n",
    "\n",
    "``` bash\n",
    "conda update anaconda\n",
    "conda update --all\n",
    "```\n",
    "\n",
    "Ya tenemos nuestra distribución de Python actualizada.\n",
    "\n",
    "> **Nota:** en caso de esperimentar algun error de interpretación con los comandos en la terminal, una posible solución (si estan usando Windows) es agregar el path a las variables de entorno del sistema operativo. Para lo cual recomendamos la siguiente [nota en Medium](https://medium.com/@hektorprofe/tutorial-windows-10-agregar-el-python-de-anaconda-al-path-para-utilizarlo-en-la-cmd-y-powershell-72acf22901a)."
   ]
  },
  {
   "cell_type": "markdown",
   "metadata": {},
   "source": [
    "### Miniconda\n",
    "\n",
    "En lugar de instalar Anaconda, se puede instalar Miniconda, que es una versión minimalista de Anaconda que solo incluye Python, pip y conda (y otros paquetes necesarios para su funcionamiento).\n",
    "\n",
    "¿Por qué instalaría Miniconda en lugar de Anaconda?\n",
    "\n",
    "* Por cuestiones de espacio en disco: en lugar de instalar todo, pueden instalar solo lo que necesitan.\n",
    "* Para aprovechar y aprender a instalar paquetes, por si alguna vez necesitan uno que Anaconda no incluya.\n",
    "\n",
    "Entrar en la [pagina oficial de Miniconda](https://docs.conda.io/en/latest/miniconda.html) e instalar la versión correspondiente al sistema operativo que poseen."
   ]
  },
  {
   "cell_type": "markdown",
   "metadata": {},
   "source": [
    "### Python en diferentes sistemas operativos\n",
    "\n",
    "Los pasos anteriormente pueden ser extrapolados a cualquier sistema operativo siguiendo las recomendaciones en la documentacion de las paginas oficiales presentadas. Por otra parte en el libro [*Python crash course: a hands-on, project-based introduction to programming*](https://www.amazon.es/Python-Crash-Course-Hands-Project-Based/dp/1593276036) de Matthes Eric presenta una detallada descripcion de como proceder para cada sistema operativo, el mismo se encuentra en el capitulo 1, pagina 5."
   ]
  },
  {
   "cell_type": "markdown",
   "metadata": {},
   "source": [
    "## Instalación del entorno de desarrollo\n",
    "\n",
    "Todo el material presentado fue realizado en la herramienta [Jupyter](https://jupyter.org/), un novedoso entorno de trabajo open source orientado a los lenguajes [R](https://www.r-project.org/) y Python, y que está revolucionando la forma de trabajar en el mundo de los datos."
   ]
  },
  {
   "cell_type": "markdown",
   "metadata": {},
   "source": [
    "## Descargar el material del workshop\n",
    "\n",
    "Ademas de disponer de todo el material en el pendrive, las últimas actualizaciones del contenido del curso está alojadas en [GitLab](https://about.gitlab.com/), una plataforma para almacenar proyectos de software que también proporciona una serie de herramientas para el trabajo en equipo. Digamos que es una especie de red social-herramienta para escribir y compartir código.\n",
    "\n",
    "Simplemente ve a nuestro [repositorio del curso en GitLab](https://gitlab.com/infiniemlab.dsp/workshop_EST.git), y en la parte derecha encontrarás un botón Download:\n",
    "\n",
    "![](../imagenes/gitlab_300x200.png)\n",
    "\n",
    "**Guardar** el archivo y **descomprimirlo**. De manera alternativa **clonar** utilizando la dirección https brindada en dicha página.\n",
    "\n",
    "> **Nota:** Si queres conocer un poco más respecto al uso de Git, se recomienda fuertemente el siguiente [link](002-introGit.ipynb). \n",
    "\n",
    "En la sección de ejercicios vamos a trabajar con esta herramienta."
   ]
  },
  {
   "cell_type": "markdown",
   "metadata": {},
   "source": [
    "### Utilizar el material del workshop\n",
    "\n",
    "Una vez que Python esta instalando, por medio de Anaconda y descargado el material del workshop, para poder utilizarlo abrir una terminal en la carpeta que se descomprimió el material. En linux se accede\n",
    "\n",
    "![](../imagenes/ubuntu1_300x200.png)\n",
    "\n",
    "Y en la terminal ingresar:\n",
    "\n",
    "``` shell\n",
    "jupyter lab\n",
    "```\n",
    "o en su **version simplificada**\n",
    "\n",
    "``` shell\n",
    "jupyter notebook\n",
    "```\n",
    "Se recomienda fuertemente `jupyter lab`.\n",
    "\n",
    "**Jupyter** es una aplicación web de código abierto que le permite crear y compartir documentos que contienen código, ecuaciones, visualizaciones y texto. **Lab** y **Notebook**, son dos versiones de la misma herramienta, que difieren tan solo en el entorno y poseen el mismo potencial. Para este workshop optamos por trabajar en **Lab**. Es importante aclarar además, que a lo largo del workshop cuando mencionemos **notebook**, se hará referencia al archivo .ipynb, en lugar al programa de **Jupyter Notebook** (con mayúscula). El termino **notebook** se hereda de [IPython](https://es.wikipedia.org/wiki/IPython).\n",
    "\n",
    "> **Nota:** es importante que la dirección que aparezca en la línea de comandos sea la correspondiente a la carpeta del curso (ej. \"workshop\"), o determinados elementos, como las imágenes incrustadas no se visualizarán correctamente.\n",
    "\n",
    "Aparecerán unas cuantas líneas y se abrirá tu navegador web predefinido. **No hace falta disponer de conexión a Internet**. Lo que está ocurriendo es que \"tu navegador está mostrando lo que le manda el programa que se está ejecutando desde la línea de comandos\". Así que no cierres la línea de comandos hasta que termines de usar el notebook y ya lo hayas guardado y cerrado en tu navegador.\n",
    "\n",
    "![](../imagenes/jupyterLab_300x200.png)\n",
    "\n",
    "En esa ventana de tu navegador puedes moverte por las carpetas y ver los archivos con extensión .ipynb. Ve a la carpeta **notebooks** y abre la primera clase haciendo click sobre ella. \n",
    "\n",
    "En esa primera clase se hace una pequeña introducción a Python. Lee el principio con calma para saber cómo manejar Jupyter Lab (también puedes usar la ayuda Help) y no tengas miedo de tocar y cambiar cosas a tu antojo. No vas a romper tu ordenador y en una de malas, siempre puedes volverte a descargar todo de GitLab.\n",
    "\n",
    "> **Nota:** un error que suele ser común al virtualizar, es la falta de pyopengl. Esto arroja un error \"Segmentation fault (core dumped)\" al querer abrir \"Jupyter Lab\". Para resolverlo instalar, usando la terminal el siguiente modulo: `pip3 install pyopengl` (Pip, ya viene instalado por defecto en Anaconda).\n",
    "\n",
    "**Una explicación alternativa para [instalar Jupyter](https://github.com/numerical-mooc/numerical-mooc/blob/master/lessons/00_getting_started/00_02_Installing_Jupyter.md)**."
   ]
  },
  {
   "cell_type": "markdown",
   "metadata": {},
   "source": [
    "## Bibliogrfía recomendada\n",
    "* MATTHES, Eric. Python crash course: a hands-on, project-based introduction to programming. No Starch Press, 2015.\n",
    "* VAN ROSSUM, Guido; DRAKE, Fred L. The python language reference manual. Network Theory Ltd., 2011."
   ]
  },
  {
   "cell_type": "markdown",
   "metadata": {
    "slideshow": {
     "slide_type": "slide"
    }
   },
   "source": [
    "## Referencias\n",
    "\n",
    "* Molloy, Derek. Exploring Raspberry Pi: interfacing to the real world with embedded Linux. John Wiley & Sons, 2016.\n",
    "* Cano, Juan Luis. Curso Aero Python. Extraido de [GitHub](https://github.com/AeroPython/Curso_AeroPython), 2016."
   ]
  },
  {
   "cell_type": "markdown",
   "metadata": {},
   "source": [
    "## Licencia\n",
    "\n",
    "<a rel=\"license\" href=\"http://creativecommons.org/licenses/by-sa/4.0/\"><img alt=\"Licencia de Creative Commons\" style=\"border-width:0\" src=\"https://i.creativecommons.org/l/by-sa/4.0/88x31.png\" /></a><br />Este documento se destribuye con una <a rel=\"license\" href=\"http://creativecommons.org/licenses/by-sa/4.0/\">licencia Atribución CompartirIgual 4.0 Internacional de Creative Commons</a>.\n",
    "\n",
    "© 2019. Infiniem Labs Acustica. infiniemlab.dsp@gmail.com. Curso de Python (CC BY-SA 4.0))"
   ]
  }
 ],
 "metadata": {
  "kernelspec": {
   "display_name": "Python 3",
   "language": "python",
   "name": "python3"
  },
  "language_info": {
   "codemirror_mode": {
    "name": "ipython",
    "version": 3
   },
   "file_extension": ".py",
   "mimetype": "text/x-python",
   "name": "python",
   "nbconvert_exporter": "python",
   "pygments_lexer": "ipython3",
   "version": "3.7.4"
  }
 },
 "nbformat": 4,
 "nbformat_minor": 4
}
