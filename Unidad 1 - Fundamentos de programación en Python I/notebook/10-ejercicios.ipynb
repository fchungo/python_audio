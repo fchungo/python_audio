{
 "cells": [
  {
   "cell_type": "markdown",
   "metadata": {
    "slideshow": {
     "slide_type": "-"
    }
   },
   "source": [
    "![](../img/tit-ejercicios-1.png)"
   ]
  },
  {
   "cell_type": "markdown",
   "metadata": {
    "slideshow": {
     "slide_type": "-"
    }
   },
   "source": [
    "## Instalación e inicio de Anaconda \n",
    "\n",
    "**1.** En primer lugar, descargaremos el software Anaconda desde su sitio web. Recordemos que en el apunte **instalacion** vamos encontrar material de consulta sobre el proceso de instalación y errores comunes. Luego de instalar, es conveniente hacer una actualización del software, con los comandos mencionados **acá**.\n",
    "\n",
    "**2.** Ahora abriremos **Anaconda Navigator**, el entorno gráfico de Anaconda. Podremos encontrarlo desde un explorador de archivos por su nombre, y en los sistemas operativos *MacOS* y basados en *Linux* también podremos abrir una terminal y escribir `anaconda-navigator`.\n",
    "\n",
    "**3.** En la ventana abierta, podremos ver los diferentes programas contenidos dentro de Anaconda. Vamos a ejecutar Jupyter Lab y luego abrir el apunte de la primera clase **instalacion** navegando hasta la carpeta donde se encuentra y seleccionando el archivo. Nótese que ahora podemos visualizar y editar el *notebook*, trate de editar el primer título del apunte y escribir algún párrafo en negrita a continuación."
   ]
  },
  {
   "cell_type": "markdown",
   "metadata": {
    "slideshow": {
     "slide_type": "-"
    }
   },
   "source": [
    "## Configuracion de entornos virtuales\n",
    "\n",
    "**1.** *Entornos virtuales:* A continuación vamos a ver la sección **environments**. El navigator permite crear entornos separados que contienen archivos, paquetes y sus dependencias. Esto es útil para separar y evitar la interacción entre entornos de trabajo, ya que podemos elegir las herramientas predeterminadas para cada uno.\n",
    "\n",
    "**2.** Vamos a crear un nuevo entorno virtual, seleccionando **environments** en el panel izquierdo. Luego, pulsamos **create** y estaremos creando un nuevo entorno virtual, con el nombre *curso_python*. Se instalarán ciertos paquetes básicos que acompañan a Python. Una vez terminada la instalación, podemos utilizar la pestaña donde dice *installed* para seleccionar la opción *not installed* y elegir nuevos paquetes a instalar. En este caso, vamos a buscar e instalar los siguientes paquetes:\n",
    "\n",
    " * numpy\n",
    " * numpy-base\n",
    " * scipy\n",
    " * pandas\n",
    " * pandas-datareader\n",
    " * pandasql\n",
    " * matplotlib\n",
    " * seaborn\n",
    " \n",
    "**3.** Los paquetes que no están incluidos en Conda pueden instalarse a través del gestor de paquetes **pip**. En este caso, lo utilizaremos para instalar la librería **librosa**. Abriremos una terminal de comandos (en Windows, Anaconda Prompt) e iniciaremos el entorno virtual que hemos creado anteriormente, indicando `source activate curso_python`. Luego podemos instalar el paquete requerido indicando `pip install librosa`.\n"
   ]
  },
  {
   "cell_type": "markdown",
   "metadata": {},
   "source": [
    "## Primeros pasos en Jupyter Lab\n",
    "\n",
    "**1.** Abriremos Jupyter Lab y exploraremos su interfaz, lo primero que debemos hacer es pulsar el botón '+' para crear un nuevo lanzador. Las pestaña emergente nos muestra dos opciones principales: **Notebook y Console**. Abramos una consola seleccionando la segunda opción y tratemos de utilizarla como una calculadora, realizando operaciones entre números de todo tipo.\n",
    "\n",
    "**2.** Ahora cerremos la consola, lancemos un nuevo notebook, e intentemos hacer lo mismo, ¿qué diferencias se encuentran?"
   ]
  }
 ],
 "metadata": {
  "kernelspec": {
   "display_name": "Python 3",
   "language": "python",
   "name": "python3"
  },
  "language_info": {
   "codemirror_mode": {
    "name": "ipython",
    "version": 3
   },
   "file_extension": ".py",
   "mimetype": "text/x-python",
   "name": "python",
   "nbconvert_exporter": "python",
   "pygments_lexer": "ipython3",
   "version": "3.7.3"
  }
 },
 "nbformat": 4,
 "nbformat_minor": 4
}
