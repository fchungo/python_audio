{
 "cells": [
  {
   "cell_type": "markdown",
   "metadata": {
    "slideshow": {
     "slide_type": "-"
    }
   },
   "source": [
    "![](../img/tit-ejercicios-2.png)"
   ]
  },
  {
   "cell_type": "markdown",
   "metadata": {
    "slideshow": {
     "slide_type": "-"
    }
   },
   "source": [
    "## Variables y operaciones matemáticas\n",
    "\n",
    "**1.** Las ecuación que define la caída libre de un cuerpo, sin considerar las fuerzas de rozamiento, es la siguiente:\n",
    "\n",
    "\\begin{equation}\n",
    "    x = 0.5 \\cdot g \\cdot t^2\n",
    "\\end{equation}\n",
    "\\begin{equation}\n",
    "    v = g \\cdot t\n",
    "\\end{equation}\n",
    "\n",
    "Donde $g = 9,8 m/s^2$ es la fuerza de gravedad, $x$ es la distancia recorrida, $v$ es la velocidad instantánea y $t$ es el tiempo transcurrido.\n",
    "Calculemos el valor de $x$ y $v$ para un instante de tiempo $t=2$ segundos. \n",
    "\n",
    "Primero pensemos, ¿cuántas variables tengo que definir? ¿De qué tipo serán? A su vez tratemos de comentar todos los pasos que estamos desarrollando en nuestro código."
   ]
  },
  {
   "cell_type": "code",
   "execution_count": null,
   "metadata": {},
   "outputs": [],
   "source": [
    "# definimos las variables que vamos a usar en la función\n",
    "tiempo = 2.0\n",
    "gravedad = 9.8\n",
    "\n",
    "# la distancia y la velocidad se guardan en otras variables\n",
    "distancia = 0.5 * gravedad * tiempo ** 2\n",
    "velocidad = gravedad * tiempo"
   ]
  },
  {
   "cell_type": "markdown",
   "metadata": {},
   "source": [
    "**2.** En el punto anterior hemos hecho los pasos para calcular el valor de $x$ y de $y$. Si queremos que el programa nos devuelva sus valores, podemos usar `print`. Tratemos de obtener el siguiente mensaje de salida a partir del uso de este comando:\n",
    "\n",
    "*La distancia recorrida tras  2  segundos es de  19.6  metros*\n",
    "\n",
    "*La velocidad instantánea a los  2  segundos es de  19.6 m/s*\n"
   ]
  },
  {
   "cell_type": "code",
   "execution_count": null,
   "metadata": {},
   "outputs": [],
   "source": [
    "print('La distancia recorrida tras ', int(tiempo) ,' segundos es de ', distancia, ' metros')\n",
    "print('La velocidad instantánea a los ', int(tiempo), ' segundos es de ', velocidad, 'm/s')"
   ]
  },
  {
   "cell_type": "markdown",
   "metadata": {},
   "source": [
    "**3.** Ahora pediremos al usuario que ingrese 1 si está en la tierra y 2 si está en la luna. El código devolverá el valor de la gravedad para cada caso y luego podremos calcular cuánto tardará un objeto en caer según donde se encuentre."
   ]
  },
  {
   "cell_type": "code",
   "execution_count": null,
   "metadata": {},
   "outputs": [],
   "source": [
    "planeta = int(input('Ingrese 1 si está en la tierra o 2 si está en la luna: '))\n",
    "\n",
    "if (planeta == 1):\n",
    "    gravedad = 9.8\n",
    "    print()       # COMPLETAR ESTE MENSAJE PARA QUE DIGA EL VALOR DE LA GRAVEDAD \n",
    "elif (planeta == 2):\n",
    "    gravedad = 1.6\n",
    "    print()        # COMPLETAR ESTE MENSAJE PARA QUE DIGA EL VALOR DE LA GRAVEDAD"
   ]
  },
  {
   "cell_type": "markdown",
   "metadata": {},
   "source": [
    "Ahora pidamos al programa que nos diga la velocidad instantánea y la distancia recorrida tras un intervalo de tiempo que el usuario ingresa. "
   ]
  },
  {
   "cell_type": "code",
   "execution_count": null,
   "metadata": {},
   "outputs": [],
   "source": [
    "tiempo = int(input('Ingrese el instante de tiempo: '))"
   ]
  },
  {
   "cell_type": "code",
   "execution_count": null,
   "metadata": {},
   "outputs": [],
   "source": [
    "distancia = 0.5 * gravedad * tiempo ** 2\n",
    "velocidad = gravedad * tiempo\n",
    "\n",
    "print('La distancia recorrida tras ', int(tiempo) ,' segundos es de ', distancia, ' metros')\n",
    "print('La velocidad instantánea a los ', int(tiempo), ' segundos es de ', velocidad, 'm/s')"
   ]
  },
  {
   "cell_type": "markdown",
   "metadata": {},
   "source": [
    "## Uso del módulo *math*"
   ]
  },
  {
   "cell_type": "markdown",
   "metadata": {},
   "source": [
    "**1.** Sigamos los pasos descriptos en el comentario de abajo para importar el módulo `math`."
   ]
  },
  {
   "cell_type": "code",
   "execution_count": null,
   "metadata": {},
   "outputs": [],
   "source": [
    "import math\n",
    "\n",
    "# Debajo de este comentario ingresar: math.\n",
    "# Luego presionar Tab, se verán las funciones disponibles dentro del módulo\n",
    "math."
   ]
  },
  {
   "cell_type": "code",
   "execution_count": null,
   "metadata": {},
   "outputs": [],
   "source": [
    "# Visualizar la ayuda para la función math.sqrt\n",
    "math.sqrt?"
   ]
  },
  {
   "cell_type": "markdown",
   "metadata": {},
   "source": [
    "**2.** Si ahora queremos calcular el instante de tiempo dada la distancia recorrida, debemos plantear la ecuación:\n",
    "\n",
    "\\begin{equation}\n",
    "    t = \\sqrt{\\frac{2d}{g}}\n",
    "\\end{equation}\n",
    "\n",
    "Podemos resolverla con el uso de la función `sqrt`, a continuación plantearemos el código necesario."
   ]
  },
  {
   "cell_type": "code",
   "execution_count": null,
   "metadata": {},
   "outputs": [],
   "source": [
    "distancia = float(input('Ingrese la distancia recorrida por el cuerpo en caída libre: '))\n",
    "\n",
    "tiempo = math.sqrt((2*distancia)/gravedad)\n",
    "print('El tiempo transcurrido para que el objeto recorra', \n",
    "      distancia, ' metros es de ', \n",
    "      round(tiempo, 2), 'segundos.')"
   ]
  }
 ],
 "metadata": {
  "kernelspec": {
   "display_name": "Python 3",
   "language": "python",
   "name": "python3"
  },
  "language_info": {
   "codemirror_mode": {
    "name": "ipython",
    "version": 3
   },
   "file_extension": ".py",
   "mimetype": "text/x-python",
   "name": "python",
   "nbconvert_exporter": "python",
   "pygments_lexer": "ipython3",
   "version": "3.7.3"
  }
 },
 "nbformat": 4,
 "nbformat_minor": 4
}
